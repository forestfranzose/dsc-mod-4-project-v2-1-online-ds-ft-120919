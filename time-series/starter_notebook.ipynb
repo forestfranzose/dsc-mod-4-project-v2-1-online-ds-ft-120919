{
 "cells": [
  {
   "cell_type": "markdown",
   "metadata": {},
   "source": [
    "# Mod 4 Project - Starter Notebook\n",
    "\n",
    "This notebook has been provided to you so that you can make use of the following starter code to help with the trickier parts of preprocessing the Zillow dataset. \n",
    "\n",
    "The notebook contains a rough outline the general order you'll likely want to take in this project. You'll notice that most of the areas are left blank. This is so that it's more obvious exactly when you should make use of the starter code provided for preprocessing. \n",
    "\n",
    "**_NOTE:_** The number of empty cells are not meant to infer how much or how little code should be involved in any given step--we've just provided a few for your convenience. Add, delete, and change things around in this notebook as needed!\n",
    "\n",
    "# Some Notes Before Starting\n",
    "\n",
    "This project will be one of the more challenging projects you complete in this program. This is because working with Time Series data is a bit different than working with regular datasets. In order to make this a bit less frustrating and help you understand what you need to do (and when you need to do it), we'll quickly review the dataset formats that you'll encounter in this project. \n",
    "\n",
    "## Wide Format vs Long Format\n",
    "\n",
    "If you take a look at the format of the data in `zillow_data.csv`, you'll notice that the actual Time Series values are stored as separate columns. Here's a sample: \n",
    "\n",
    "<img src='https://raw.githubusercontent.com/learn-co-students/dsc-mod-4-project-seattle-ds-102819/master/images/df_head.png'>\n",
    "\n",
    "You'll notice that the first seven columns look like any other dataset you're used to working with. However, column 8 refers to the median housing sales values for April 1996, column 9 for May 1996, and so on. This This is called **_Wide Format_**, and it makes the dataframe intuitive and easy to read. However, there are problems with this format when it comes to actually learning from the data, because the data only makes sense if you know the name of the column that the data can be found it. Since column names are metadata, our algorithms will miss out on what dates each value is for. This means that before we pass this data to our ARIMA model, we'll need to reshape our dataset to **_Long Format_**. Reshaped into long format, the dataframe above would now look like:\n",
    "\n",
    "<img src='https://raw.githubusercontent.com/learn-co-students/dsc-mod-4-project-seattle-ds-102819/master/images/melted1.png'>\n",
    "\n",
    "There are now many more rows in this dataset--one for each unique time and zipcode combination in the data! Once our dataset is in this format, we'll be able to train an ARIMA model on it. The method used to convert from Wide to Long is `pd.melt()`, and it is common to refer to our dataset as 'melted' after the transition to denote that it is in long format. \n",
    "\n",
    "# Helper Functions Provided\n",
    "\n",
    "Melting a dataset can be tricky if you've never done it before, so you'll see that we have provided a sample function, `melt_data()`, to help you with this step below. Also provided is:\n",
    "\n",
    "* `get_datetimes()`, a function to deal with converting the column values for datetimes as a pandas series of datetime objects\n",
    "* Some good parameters for matplotlib to help make your visualizations more readable. \n",
    "\n",
    "Good luck!\n",
    "\n",
    "\n",
    "# Step 1: Load the Data/Filtering for Chosen Zipcodes"
   ]
  },
  {
   "cell_type": "code",
   "execution_count": 2,
   "metadata": {},
   "outputs": [],
   "source": [
    "import pandas as pd"
   ]
  },
  {
   "cell_type": "code",
   "execution_count": 72,
   "metadata": {},
   "outputs": [
    {
     "name": "stdout",
     "output_type": "stream",
     "text": [
      "(14723, 272)\n"
     ]
    }
   ],
   "source": [
    "df = pd.read_csv('zillow_data.csv')\n",
    "df.head()\n",
    "print(df.shape)"
   ]
  },
  {
   "cell_type": "code",
   "execution_count": 80,
   "metadata": {},
   "outputs": [
    {
     "data": {
      "text/plain": [
       "RegionID               int64\n",
       "RegionName             int64\n",
       "City                  object\n",
       "State                 object\n",
       "Metro                 object\n",
       "CountyName            object\n",
       "SizeRank               int64\n",
       "Month         datetime64[ns]\n",
       "Mean Value           float64\n",
       "dtype: object"
      ]
     },
     "execution_count": 80,
     "metadata": {},
     "output_type": "execute_result"
    }
   ],
   "source": [
    "melted = melt_data(df)\n",
    "melted.dtypes"
   ]
  },
  {
   "cell_type": "code",
   "execution_count": 95,
   "metadata": {},
   "outputs": [],
   "source": [
    "import datetime\n",
    "modern = melted[(melted.Month >= datetime.datetime(2017, 1, 1))]"
   ]
  },
  {
   "cell_type": "code",
   "execution_count": 99,
   "metadata": {},
   "outputs": [
    {
     "data": {
      "text/html": [
       "<div>\n",
       "<style scoped>\n",
       "    .dataframe tbody tr th:only-of-type {\n",
       "        vertical-align: middle;\n",
       "    }\n",
       "\n",
       "    .dataframe tbody tr th {\n",
       "        vertical-align: top;\n",
       "    }\n",
       "\n",
       "    .dataframe thead th {\n",
       "        text-align: right;\n",
       "    }\n",
       "</style>\n",
       "<table border=\"1\" class=\"dataframe\">\n",
       "  <thead>\n",
       "    <tr style=\"text-align: right;\">\n",
       "      <th></th>\n",
       "      <th>Mean Value</th>\n",
       "    </tr>\n",
       "    <tr>\n",
       "      <th>City</th>\n",
       "      <th></th>\n",
       "    </tr>\n",
       "  </thead>\n",
       "  <tbody>\n",
       "    <tr>\n",
       "      <td>Abbeville</td>\n",
       "      <td>71456.250000</td>\n",
       "    </tr>\n",
       "    <tr>\n",
       "      <td>Aberdeen</td>\n",
       "      <td>133578.750000</td>\n",
       "    </tr>\n",
       "    <tr>\n",
       "      <td>Abilene</td>\n",
       "      <td>124636.458333</td>\n",
       "    </tr>\n",
       "    <tr>\n",
       "      <td>Abingdon</td>\n",
       "      <td>154618.750000</td>\n",
       "    </tr>\n",
       "    <tr>\n",
       "      <td>Abington</td>\n",
       "      <td>302140.000000</td>\n",
       "    </tr>\n",
       "    <tr>\n",
       "      <td>...</td>\n",
       "      <td>...</td>\n",
       "    </tr>\n",
       "    <tr>\n",
       "      <td>Zionsville</td>\n",
       "      <td>375943.750000</td>\n",
       "    </tr>\n",
       "    <tr>\n",
       "      <td>Zionville</td>\n",
       "      <td>171731.250000</td>\n",
       "    </tr>\n",
       "    <tr>\n",
       "      <td>Zumbro Falls</td>\n",
       "      <td>252293.750000</td>\n",
       "    </tr>\n",
       "    <tr>\n",
       "      <td>Zumbrota</td>\n",
       "      <td>186687.500000</td>\n",
       "    </tr>\n",
       "    <tr>\n",
       "      <td>Zuni</td>\n",
       "      <td>185881.250000</td>\n",
       "    </tr>\n",
       "  </tbody>\n",
       "</table>\n",
       "<p>7554 rows × 1 columns</p>\n",
       "</div>"
      ],
      "text/plain": [
       "                 Mean Value\n",
       "City                       \n",
       "Abbeville      71456.250000\n",
       "Aberdeen      133578.750000\n",
       "Abilene       124636.458333\n",
       "Abingdon      154618.750000\n",
       "Abington      302140.000000\n",
       "...                     ...\n",
       "Zionsville    375943.750000\n",
       "Zionville     171731.250000\n",
       "Zumbro Falls  252293.750000\n",
       "Zumbrota      186687.500000\n",
       "Zuni          185881.250000\n",
       "\n",
       "[7554 rows x 1 columns]"
      ]
     },
     "execution_count": 99,
     "metadata": {},
     "output_type": "execute_result"
    }
   ],
   "source": [
    "modern_grouped = modern.groupby('City').mean()\n",
    "modern_grouped = modern_grouped.drop(['RegionID', 'RegionName', 'SizeRank'], axis = 1)\n",
    "modern_grouped"
   ]
  },
  {
   "cell_type": "code",
   "execution_count": 102,
   "metadata": {},
   "outputs": [
    {
     "data": {
      "text/html": [
       "<div>\n",
       "<style scoped>\n",
       "    .dataframe tbody tr th:only-of-type {\n",
       "        vertical-align: middle;\n",
       "    }\n",
       "\n",
       "    .dataframe tbody tr th {\n",
       "        vertical-align: top;\n",
       "    }\n",
       "\n",
       "    .dataframe thead th {\n",
       "        text-align: right;\n",
       "    }\n",
       "</style>\n",
       "<table border=\"1\" class=\"dataframe\">\n",
       "  <thead>\n",
       "    <tr style=\"text-align: right;\">\n",
       "      <th></th>\n",
       "      <th>Mean Value</th>\n",
       "    </tr>\n",
       "    <tr>\n",
       "      <th>City</th>\n",
       "      <th></th>\n",
       "    </tr>\n",
       "  </thead>\n",
       "  <tbody>\n",
       "    <tr>\n",
       "      <td>Atherton</td>\n",
       "      <td>6280018.75</td>\n",
       "    </tr>\n",
       "    <tr>\n",
       "      <td>Palm Beach</td>\n",
       "      <td>4531050.00</td>\n",
       "    </tr>\n",
       "    <tr>\n",
       "      <td>Los Altos</td>\n",
       "      <td>3540318.75</td>\n",
       "    </tr>\n",
       "    <tr>\n",
       "      <td>Portola Valley</td>\n",
       "      <td>3432131.25</td>\n",
       "    </tr>\n",
       "    <tr>\n",
       "      <td>Newport Coast</td>\n",
       "      <td>3286656.25</td>\n",
       "    </tr>\n",
       "    <tr>\n",
       "      <td>...</td>\n",
       "      <td>...</td>\n",
       "    </tr>\n",
       "    <tr>\n",
       "      <td>East Spencer</td>\n",
       "      <td>27343.75</td>\n",
       "    </tr>\n",
       "    <tr>\n",
       "      <td>Witt</td>\n",
       "      <td>25562.50</td>\n",
       "    </tr>\n",
       "    <tr>\n",
       "      <td>Earlington</td>\n",
       "      <td>24356.25</td>\n",
       "    </tr>\n",
       "    <tr>\n",
       "      <td>Whitmire</td>\n",
       "      <td>24131.25</td>\n",
       "    </tr>\n",
       "    <tr>\n",
       "      <td>Earle</td>\n",
       "      <td>14337.50</td>\n",
       "    </tr>\n",
       "  </tbody>\n",
       "</table>\n",
       "<p>7554 rows × 1 columns</p>\n",
       "</div>"
      ],
      "text/plain": [
       "                Mean Value\n",
       "City                      \n",
       "Atherton        6280018.75\n",
       "Palm Beach      4531050.00\n",
       "Los Altos       3540318.75\n",
       "Portola Valley  3432131.25\n",
       "Newport Coast   3286656.25\n",
       "...                    ...\n",
       "East Spencer      27343.75\n",
       "Witt              25562.50\n",
       "Earlington        24356.25\n",
       "Whitmire          24131.25\n",
       "Earle             14337.50\n",
       "\n",
       "[7554 rows x 1 columns]"
      ]
     },
     "execution_count": 102,
     "metadata": {},
     "output_type": "execute_result"
    }
   ],
   "source": [
    "modern_grouped.sort_values(by = ['Mean Value'], ascending = False)\n"
   ]
  },
  {
   "cell_type": "code",
   "execution_count": 130,
   "metadata": {},
   "outputs": [
    {
     "data": {
      "text/plain": [
       "18"
      ]
     },
     "execution_count": 130,
     "metadata": {},
     "output_type": "execute_result"
    }
   ],
   "source": [
    "boston = melted[(melted.City == 'Boston') & (melted.State == 'MA')]\n",
    "len(boston.groupby('RegionName').mean())"
   ]
  },
  {
   "cell_type": "code",
   "execution_count": 131,
   "metadata": {},
   "outputs": [
    {
     "data": {
      "text/html": [
       "<div>\n",
       "<style scoped>\n",
       "    .dataframe tbody tr th:only-of-type {\n",
       "        vertical-align: middle;\n",
       "    }\n",
       "\n",
       "    .dataframe tbody tr th {\n",
       "        vertical-align: top;\n",
       "    }\n",
       "\n",
       "    .dataframe thead th {\n",
       "        text-align: right;\n",
       "    }\n",
       "</style>\n",
       "<table border=\"1\" class=\"dataframe\">\n",
       "  <thead>\n",
       "    <tr style=\"text-align: right;\">\n",
       "      <th></th>\n",
       "      <th>RegionID</th>\n",
       "      <th>RegionName</th>\n",
       "      <th>City</th>\n",
       "      <th>State</th>\n",
       "      <th>Metro</th>\n",
       "      <th>CountyName</th>\n",
       "      <th>SizeRank</th>\n",
       "      <th>Month</th>\n",
       "      <th>Mean Value</th>\n",
       "    </tr>\n",
       "  </thead>\n",
       "  <tbody>\n",
       "    <tr>\n",
       "      <td>561</td>\n",
       "      <td>58649</td>\n",
       "      <td>2135</td>\n",
       "      <td>Boston</td>\n",
       "      <td>MA</td>\n",
       "      <td>Boston</td>\n",
       "      <td>Suffolk</td>\n",
       "      <td>562</td>\n",
       "      <td>1996-04-01</td>\n",
       "      <td>165200.0</td>\n",
       "    </tr>\n",
       "    <tr>\n",
       "      <td>1169</td>\n",
       "      <td>58638</td>\n",
       "      <td>2124</td>\n",
       "      <td>Boston</td>\n",
       "      <td>MA</td>\n",
       "      <td>Boston</td>\n",
       "      <td>Suffolk</td>\n",
       "      <td>1170</td>\n",
       "      <td>1996-04-01</td>\n",
       "      <td>100900.0</td>\n",
       "    </tr>\n",
       "    <tr>\n",
       "      <td>1511</td>\n",
       "      <td>58641</td>\n",
       "      <td>2127</td>\n",
       "      <td>Boston</td>\n",
       "      <td>MA</td>\n",
       "      <td>Boston</td>\n",
       "      <td>Suffolk</td>\n",
       "      <td>1512</td>\n",
       "      <td>1996-04-01</td>\n",
       "      <td>124600.0</td>\n",
       "    </tr>\n",
       "    <tr>\n",
       "      <td>1670</td>\n",
       "      <td>58644</td>\n",
       "      <td>2130</td>\n",
       "      <td>Boston</td>\n",
       "      <td>MA</td>\n",
       "      <td>Boston</td>\n",
       "      <td>Suffolk</td>\n",
       "      <td>1671</td>\n",
       "      <td>1996-04-01</td>\n",
       "      <td>185900.0</td>\n",
       "    </tr>\n",
       "    <tr>\n",
       "      <td>1921</td>\n",
       "      <td>58642</td>\n",
       "      <td>2128</td>\n",
       "      <td>Boston</td>\n",
       "      <td>MA</td>\n",
       "      <td>Boston</td>\n",
       "      <td>Suffolk</td>\n",
       "      <td>1922</td>\n",
       "      <td>1996-04-01</td>\n",
       "      <td>83300.0</td>\n",
       "    </tr>\n",
       "    <tr>\n",
       "      <td>...</td>\n",
       "      <td>...</td>\n",
       "      <td>...</td>\n",
       "      <td>...</td>\n",
       "      <td>...</td>\n",
       "      <td>...</td>\n",
       "      <td>...</td>\n",
       "      <td>...</td>\n",
       "      <td>...</td>\n",
       "      <td>...</td>\n",
       "    </tr>\n",
       "    <tr>\n",
       "      <td>3891997</td>\n",
       "      <td>58636</td>\n",
       "      <td>2122</td>\n",
       "      <td>Boston</td>\n",
       "      <td>MA</td>\n",
       "      <td>Boston</td>\n",
       "      <td>Suffolk</td>\n",
       "      <td>5126</td>\n",
       "      <td>2018-04-01</td>\n",
       "      <td>530200.0</td>\n",
       "    </tr>\n",
       "    <tr>\n",
       "      <td>3892177</td>\n",
       "      <td>58640</td>\n",
       "      <td>2126</td>\n",
       "      <td>Boston</td>\n",
       "      <td>MA</td>\n",
       "      <td>Boston</td>\n",
       "      <td>Suffolk</td>\n",
       "      <td>5306</td>\n",
       "      <td>2018-04-01</td>\n",
       "      <td>419400.0</td>\n",
       "    </tr>\n",
       "    <tr>\n",
       "      <td>3894372</td>\n",
       "      <td>58634</td>\n",
       "      <td>2120</td>\n",
       "      <td>Boston</td>\n",
       "      <td>MA</td>\n",
       "      <td>Boston</td>\n",
       "      <td>Suffolk</td>\n",
       "      <td>7501</td>\n",
       "      <td>2018-04-01</td>\n",
       "      <td>706600.0</td>\n",
       "    </tr>\n",
       "    <tr>\n",
       "      <td>3895014</td>\n",
       "      <td>58625</td>\n",
       "      <td>2111</td>\n",
       "      <td>Boston</td>\n",
       "      <td>MA</td>\n",
       "      <td>Boston</td>\n",
       "      <td>Suffolk</td>\n",
       "      <td>8143</td>\n",
       "      <td>2018-04-01</td>\n",
       "      <td>593600.0</td>\n",
       "    </tr>\n",
       "    <tr>\n",
       "      <td>3898913</td>\n",
       "      <td>58624</td>\n",
       "      <td>2110</td>\n",
       "      <td>Boston</td>\n",
       "      <td>MA</td>\n",
       "      <td>Boston</td>\n",
       "      <td>Suffolk</td>\n",
       "      <td>12042</td>\n",
       "      <td>2018-04-01</td>\n",
       "      <td>724900.0</td>\n",
       "    </tr>\n",
       "  </tbody>\n",
       "</table>\n",
       "<p>4551 rows × 9 columns</p>\n",
       "</div>"
      ],
      "text/plain": [
       "         RegionID  RegionName    City State   Metro CountyName  SizeRank  \\\n",
       "561         58649        2135  Boston    MA  Boston    Suffolk       562   \n",
       "1169        58638        2124  Boston    MA  Boston    Suffolk      1170   \n",
       "1511        58641        2127  Boston    MA  Boston    Suffolk      1512   \n",
       "1670        58644        2130  Boston    MA  Boston    Suffolk      1671   \n",
       "1921        58642        2128  Boston    MA  Boston    Suffolk      1922   \n",
       "...           ...         ...     ...   ...     ...        ...       ...   \n",
       "3891997     58636        2122  Boston    MA  Boston    Suffolk      5126   \n",
       "3892177     58640        2126  Boston    MA  Boston    Suffolk      5306   \n",
       "3894372     58634        2120  Boston    MA  Boston    Suffolk      7501   \n",
       "3895014     58625        2111  Boston    MA  Boston    Suffolk      8143   \n",
       "3898913     58624        2110  Boston    MA  Boston    Suffolk     12042   \n",
       "\n",
       "             Month  Mean Value  \n",
       "561     1996-04-01    165200.0  \n",
       "1169    1996-04-01    100900.0  \n",
       "1511    1996-04-01    124600.0  \n",
       "1670    1996-04-01    185900.0  \n",
       "1921    1996-04-01     83300.0  \n",
       "...            ...         ...  \n",
       "3891997 2018-04-01    530200.0  \n",
       "3892177 2018-04-01    419400.0  \n",
       "3894372 2018-04-01    706600.0  \n",
       "3895014 2018-04-01    593600.0  \n",
       "3898913 2018-04-01    724900.0  \n",
       "\n",
       "[4551 rows x 9 columns]"
      ]
     },
     "execution_count": 131,
     "metadata": {},
     "output_type": "execute_result"
    }
   ],
   "source": [
    "boston"
   ]
  },
  {
   "cell_type": "code",
   "execution_count": 134,
   "metadata": {},
   "outputs": [
    {
     "data": {
      "text/html": [
       "<div>\n",
       "<style scoped>\n",
       "    .dataframe tbody tr th:only-of-type {\n",
       "        vertical-align: middle;\n",
       "    }\n",
       "\n",
       "    .dataframe tbody tr th {\n",
       "        vertical-align: top;\n",
       "    }\n",
       "\n",
       "    .dataframe thead th {\n",
       "        text-align: right;\n",
       "    }\n",
       "</style>\n",
       "<table border=\"1\" class=\"dataframe\">\n",
       "  <thead>\n",
       "    <tr style=\"text-align: right;\">\n",
       "      <th></th>\n",
       "      <th>RegionName</th>\n",
       "      <th>Month</th>\n",
       "      <th>Mean Value</th>\n",
       "    </tr>\n",
       "  </thead>\n",
       "  <tbody>\n",
       "    <tr>\n",
       "      <td>0</td>\n",
       "      <td>2135</td>\n",
       "      <td>1996-04-01</td>\n",
       "      <td>165200.0</td>\n",
       "    </tr>\n",
       "    <tr>\n",
       "      <td>1</td>\n",
       "      <td>2124</td>\n",
       "      <td>1996-04-01</td>\n",
       "      <td>100900.0</td>\n",
       "    </tr>\n",
       "    <tr>\n",
       "      <td>2</td>\n",
       "      <td>2127</td>\n",
       "      <td>1996-04-01</td>\n",
       "      <td>124600.0</td>\n",
       "    </tr>\n",
       "    <tr>\n",
       "      <td>3</td>\n",
       "      <td>2130</td>\n",
       "      <td>1996-04-01</td>\n",
       "      <td>185900.0</td>\n",
       "    </tr>\n",
       "    <tr>\n",
       "      <td>4</td>\n",
       "      <td>2128</td>\n",
       "      <td>1996-04-01</td>\n",
       "      <td>83300.0</td>\n",
       "    </tr>\n",
       "    <tr>\n",
       "      <td>...</td>\n",
       "      <td>...</td>\n",
       "      <td>...</td>\n",
       "      <td>...</td>\n",
       "    </tr>\n",
       "    <tr>\n",
       "      <td>4546</td>\n",
       "      <td>2122</td>\n",
       "      <td>2018-04-01</td>\n",
       "      <td>530200.0</td>\n",
       "    </tr>\n",
       "    <tr>\n",
       "      <td>4547</td>\n",
       "      <td>2126</td>\n",
       "      <td>2018-04-01</td>\n",
       "      <td>419400.0</td>\n",
       "    </tr>\n",
       "    <tr>\n",
       "      <td>4548</td>\n",
       "      <td>2120</td>\n",
       "      <td>2018-04-01</td>\n",
       "      <td>706600.0</td>\n",
       "    </tr>\n",
       "    <tr>\n",
       "      <td>4549</td>\n",
       "      <td>2111</td>\n",
       "      <td>2018-04-01</td>\n",
       "      <td>593600.0</td>\n",
       "    </tr>\n",
       "    <tr>\n",
       "      <td>4550</td>\n",
       "      <td>2110</td>\n",
       "      <td>2018-04-01</td>\n",
       "      <td>724900.0</td>\n",
       "    </tr>\n",
       "  </tbody>\n",
       "</table>\n",
       "<p>4551 rows × 3 columns</p>\n",
       "</div>"
      ],
      "text/plain": [
       "      RegionName      Month  Mean Value\n",
       "0           2135 1996-04-01    165200.0\n",
       "1           2124 1996-04-01    100900.0\n",
       "2           2127 1996-04-01    124600.0\n",
       "3           2130 1996-04-01    185900.0\n",
       "4           2128 1996-04-01     83300.0\n",
       "...          ...        ...         ...\n",
       "4546        2122 2018-04-01    530200.0\n",
       "4547        2126 2018-04-01    419400.0\n",
       "4548        2120 2018-04-01    706600.0\n",
       "4549        2111 2018-04-01    593600.0\n",
       "4550        2110 2018-04-01    724900.0\n",
       "\n",
       "[4551 rows x 3 columns]"
      ]
     },
     "execution_count": 134,
     "metadata": {},
     "output_type": "execute_result"
    }
   ],
   "source": [
    "#boston.drop(['RegionID','City','State','Metro','CountyName','SizeRank'], axis=1, inplace=True)\n",
    "#boston.reset_index(drop=True, inplace=True)\n",
    "boston"
   ]
  },
  {
   "cell_type": "code",
   "execution_count": 136,
   "metadata": {},
   "outputs": [
    {
     "data": {
      "text/plain": [
       "2134    265\n",
       "2130    265\n",
       "2125    265\n",
       "2120    265\n",
       "2124    265\n",
       "2128    265\n",
       "2132    265\n",
       "2136    265\n",
       "2111    265\n",
       "2119    265\n",
       "2127    265\n",
       "2131    265\n",
       "2135    265\n",
       "2110    265\n",
       "2122    265\n",
       "2126    265\n",
       "2121    265\n",
       "2116     46\n",
       "Name: RegionName, dtype: int64"
      ]
     },
     "execution_count": 136,
     "metadata": {},
     "output_type": "execute_result"
    }
   ],
   "source": [
    "boston['RegionName'].value_counts()"
   ]
  },
  {
   "cell_type": "code",
   "execution_count": 138,
   "metadata": {},
   "outputs": [
    {
     "data": {
      "text/html": [
       "<div>\n",
       "<style scoped>\n",
       "    .dataframe tbody tr th:only-of-type {\n",
       "        vertical-align: middle;\n",
       "    }\n",
       "\n",
       "    .dataframe tbody tr th {\n",
       "        vertical-align: top;\n",
       "    }\n",
       "\n",
       "    .dataframe thead th {\n",
       "        text-align: right;\n",
       "    }\n",
       "</style>\n",
       "<table border=\"1\" class=\"dataframe\">\n",
       "  <thead>\n",
       "    <tr style=\"text-align: right;\">\n",
       "      <th></th>\n",
       "      <th>RegionName</th>\n",
       "      <th>Month</th>\n",
       "      <th>Mean Value</th>\n",
       "    </tr>\n",
       "  </thead>\n",
       "  <tbody>\n",
       "    <tr>\n",
       "      <td>0</td>\n",
       "      <td>2135</td>\n",
       "      <td>1996-04-01</td>\n",
       "      <td>165200.0</td>\n",
       "    </tr>\n",
       "    <tr>\n",
       "      <td>1</td>\n",
       "      <td>2124</td>\n",
       "      <td>1996-04-01</td>\n",
       "      <td>100900.0</td>\n",
       "    </tr>\n",
       "    <tr>\n",
       "      <td>2</td>\n",
       "      <td>2127</td>\n",
       "      <td>1996-04-01</td>\n",
       "      <td>124600.0</td>\n",
       "    </tr>\n",
       "    <tr>\n",
       "      <td>3</td>\n",
       "      <td>2130</td>\n",
       "      <td>1996-04-01</td>\n",
       "      <td>185900.0</td>\n",
       "    </tr>\n",
       "    <tr>\n",
       "      <td>4</td>\n",
       "      <td>2128</td>\n",
       "      <td>1996-04-01</td>\n",
       "      <td>83300.0</td>\n",
       "    </tr>\n",
       "  </tbody>\n",
       "</table>\n",
       "</div>"
      ],
      "text/plain": [
       "   RegionName      Month  Mean Value\n",
       "0        2135 1996-04-01    165200.0\n",
       "1        2124 1996-04-01    100900.0\n",
       "2        2127 1996-04-01    124600.0\n",
       "3        2130 1996-04-01    185900.0\n",
       "4        2128 1996-04-01     83300.0"
      ]
     },
     "execution_count": 138,
     "metadata": {},
     "output_type": "execute_result"
    }
   ],
   "source": [
    "boston = boston[~boston.RegionName.isin([2116])]\n",
    "boston.head()"
   ]
  },
  {
   "cell_type": "code",
   "execution_count": 139,
   "metadata": {},
   "outputs": [
    {
     "data": {
      "text/plain": [
       "2134    265\n",
       "2111    265\n",
       "2125    265\n",
       "2120    265\n",
       "2124    265\n",
       "2128    265\n",
       "2132    265\n",
       "2136    265\n",
       "2119    265\n",
       "2130    265\n",
       "2127    265\n",
       "2131    265\n",
       "2135    265\n",
       "2110    265\n",
       "2122    265\n",
       "2126    265\n",
       "2121    265\n",
       "Name: RegionName, dtype: int64"
      ]
     },
     "execution_count": 139,
     "metadata": {},
     "output_type": "execute_result"
    }
   ],
   "source": [
    "boston['RegionName'].value_counts()"
   ]
  },
  {
   "cell_type": "code",
   "execution_count": null,
   "metadata": {},
   "outputs": [],
   "source": []
  },
  {
   "cell_type": "code",
   "execution_count": null,
   "metadata": {},
   "outputs": [],
   "source": []
  },
  {
   "cell_type": "code",
   "execution_count": null,
   "metadata": {},
   "outputs": [],
   "source": []
  },
  {
   "cell_type": "code",
   "execution_count": null,
   "metadata": {},
   "outputs": [],
   "source": []
  },
  {
   "cell_type": "code",
   "execution_count": null,
   "metadata": {},
   "outputs": [],
   "source": []
  },
  {
   "cell_type": "markdown",
   "metadata": {},
   "source": [
    "# Step 2: Data Preprocessing"
   ]
  },
  {
   "cell_type": "code",
   "execution_count": null,
   "metadata": {},
   "outputs": [],
   "source": [
    "def get_datetimes(df):\n",
    "    return pd.to_datetime(df.columns.values[1:], format='%Y-%m')"
   ]
  },
  {
   "cell_type": "code",
   "execution_count": null,
   "metadata": {},
   "outputs": [],
   "source": []
  },
  {
   "cell_type": "code",
   "execution_count": null,
   "metadata": {},
   "outputs": [],
   "source": []
  },
  {
   "cell_type": "code",
   "execution_count": null,
   "metadata": {},
   "outputs": [],
   "source": []
  },
  {
   "cell_type": "code",
   "execution_count": null,
   "metadata": {},
   "outputs": [],
   "source": []
  },
  {
   "cell_type": "code",
   "execution_count": null,
   "metadata": {},
   "outputs": [],
   "source": []
  },
  {
   "cell_type": "markdown",
   "metadata": {},
   "source": [
    "# Step 3: EDA and Visualization"
   ]
  },
  {
   "cell_type": "code",
   "execution_count": null,
   "metadata": {},
   "outputs": [],
   "source": [
    "font = {'family' : 'normal',\n",
    "        'weight' : 'bold',\n",
    "        'size'   : 22}\n",
    "\n",
    "matplotlib.rc('font', **font)\n",
    "\n",
    "# NOTE: if you visualizations are too cluttered to read, try calling 'plt.gcf().autofmt_xdate()'!"
   ]
  },
  {
   "cell_type": "code",
   "execution_count": null,
   "metadata": {},
   "outputs": [],
   "source": []
  },
  {
   "cell_type": "code",
   "execution_count": null,
   "metadata": {},
   "outputs": [],
   "source": []
  },
  {
   "cell_type": "code",
   "execution_count": null,
   "metadata": {},
   "outputs": [],
   "source": []
  },
  {
   "cell_type": "markdown",
   "metadata": {},
   "source": [
    "# Step 4: Reshape from Wide to Long Format"
   ]
  },
  {
   "cell_type": "code",
   "execution_count": 70,
   "metadata": {},
   "outputs": [],
   "source": [
    "def melt_data(df):\n",
    "    melted = pd.melt(df, id_vars=['RegionID', 'RegionName', 'City', 'State', 'Metro', 'CountyName', 'SizeRank'], var_name='Month', value_name='Mean Value')\n",
    "    melted['Month'] = pd.to_datetime(melted['Month'], infer_datetime_format=True)\n",
    "    melted = melted.dropna(subset=['Mean Value'])\n",
    "    return melted"
   ]
  },
  {
   "cell_type": "code",
   "execution_count": null,
   "metadata": {},
   "outputs": [],
   "source": []
  },
  {
   "cell_type": "code",
   "execution_count": null,
   "metadata": {},
   "outputs": [],
   "source": []
  },
  {
   "cell_type": "code",
   "execution_count": null,
   "metadata": {},
   "outputs": [],
   "source": []
  },
  {
   "cell_type": "code",
   "execution_count": null,
   "metadata": {},
   "outputs": [],
   "source": []
  },
  {
   "cell_type": "markdown",
   "metadata": {},
   "source": [
    "# Step 5: ARIMA Modeling"
   ]
  },
  {
   "cell_type": "code",
   "execution_count": null,
   "metadata": {},
   "outputs": [],
   "source": []
  },
  {
   "cell_type": "code",
   "execution_count": null,
   "metadata": {},
   "outputs": [],
   "source": []
  },
  {
   "cell_type": "code",
   "execution_count": null,
   "metadata": {},
   "outputs": [],
   "source": []
  },
  {
   "cell_type": "code",
   "execution_count": null,
   "metadata": {},
   "outputs": [],
   "source": []
  },
  {
   "cell_type": "code",
   "execution_count": null,
   "metadata": {},
   "outputs": [],
   "source": []
  },
  {
   "cell_type": "code",
   "execution_count": null,
   "metadata": {},
   "outputs": [],
   "source": []
  },
  {
   "cell_type": "markdown",
   "metadata": {},
   "source": [
    "# Step 6: Interpreting Results"
   ]
  },
  {
   "cell_type": "code",
   "execution_count": null,
   "metadata": {},
   "outputs": [],
   "source": []
  },
  {
   "cell_type": "code",
   "execution_count": null,
   "metadata": {},
   "outputs": [],
   "source": []
  },
  {
   "cell_type": "code",
   "execution_count": null,
   "metadata": {},
   "outputs": [],
   "source": []
  }
 ],
 "metadata": {
  "kernelspec": {
   "display_name": "Python 3",
   "language": "python",
   "name": "python3"
  },
  "language_info": {
   "codemirror_mode": {
    "name": "ipython",
    "version": 3
   },
   "file_extension": ".py",
   "mimetype": "text/x-python",
   "name": "python",
   "nbconvert_exporter": "python",
   "pygments_lexer": "ipython3",
   "version": "3.6.9"
  }
 },
 "nbformat": 4,
 "nbformat_minor": 2
}
